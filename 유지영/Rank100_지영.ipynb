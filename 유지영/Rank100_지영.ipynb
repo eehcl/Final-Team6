{
  "nbformat": 4,
  "nbformat_minor": 0,
  "metadata": {
    "colab": {
      "provenance": [],
      "authorship_tag": "ABX9TyPBmGU5S8yZr+TU39jERvPh",
      "include_colab_link": true
    },
    "kernelspec": {
      "name": "python3",
      "display_name": "Python 3"
    },
    "language_info": {
      "name": "python"
    }
  },
  "cells": [
    {
      "cell_type": "markdown",
      "metadata": {
        "id": "view-in-github",
        "colab_type": "text"
      },
      "source": [
        "<a href=\"https://colab.research.google.com/github/eehcl/Final-Team6/blob/main/Rank100_%EC%A7%80%EC%98%81.ipynb\" target=\"_parent\"><img src=\"https://colab.research.google.com/assets/colab-badge.svg\" alt=\"Open In Colab\"/></a>"
      ]
    },
    {
      "cell_type": "code",
      "execution_count": null,
      "metadata": {
        "id": "Jczm50wqU9FG"
      },
      "outputs": [],
      "source": [
        "import pandas as pd\n",
        "import numpy as np\n",
        "from scipy import stats\n",
        "import statsmodels.api as sm\n",
        "import statsmodels.formula.api as smf"
      ]
    },
    {
      "cell_type": "code",
      "source": [
        "df = pd.read_csv('/content/combined_dataset.csv')\n",
        "# 원본 데이터"
      ],
      "metadata": {
        "id": "hjo8BQIaVCQY"
      },
      "execution_count": null,
      "outputs": []
    },
    {
      "cell_type": "code",
      "source": [
        "df.info()"
      ],
      "metadata": {
        "colab": {
          "base_uri": "https://localhost:8080/"
        },
        "id": "uSMWfMdCVKGW",
        "outputId": "06bca1e4-2c03-4b74-8d03-a7d63c57dc79"
      },
      "execution_count": null,
      "outputs": [
        {
          "output_type": "stream",
          "name": "stdout",
          "text": [
            "<class 'pandas.core.frame.DataFrame'>\n",
            "RangeIndex: 11446 entries, 0 to 11445\n",
            "Data columns (total 75 columns):\n",
            " #   Column                                        Non-Null Count  Dtype  \n",
            "---  ------                                        --------------  -----  \n",
            " 0   id                                            11446 non-null  int64  \n",
            " 1   listing_url                                   11446 non-null  object \n",
            " 2   scrape_id                                     11446 non-null  int64  \n",
            " 3   last_scraped                                  11446 non-null  object \n",
            " 4   source                                        11446 non-null  object \n",
            " 5   name                                          11446 non-null  object \n",
            " 6   description                                   9276 non-null   object \n",
            " 7   neighborhood_overview                         5663 non-null   object \n",
            " 8   picture_url                                   11446 non-null  object \n",
            " 9   host_id                                       11446 non-null  int64  \n",
            " 10  host_url                                      11446 non-null  object \n",
            " 11  host_name                                     11446 non-null  object \n",
            " 12  host_since                                    11446 non-null  object \n",
            " 13  host_location                                 8554 non-null   object \n",
            " 14  host_about                                    6402 non-null   object \n",
            " 15  host_response_time                            10000 non-null  object \n",
            " 16  host_response_rate                            10000 non-null  object \n",
            " 17  host_acceptance_rate                          10641 non-null  object \n",
            " 18  host_is_superhost                             11173 non-null  object \n",
            " 19  host_thumbnail_url                            11446 non-null  object \n",
            " 20  host_picture_url                              11446 non-null  object \n",
            " 21  host_neighbourhood                            10530 non-null  object \n",
            " 22  host_listings_count                           11446 non-null  int64  \n",
            " 23  host_total_listings_count                     11446 non-null  int64  \n",
            " 24  host_verifications                            11446 non-null  object \n",
            " 25  host_has_profile_pic                          11446 non-null  object \n",
            " 26  host_identity_verified                        11446 non-null  object \n",
            " 27  neighbourhood                                 5663 non-null   object \n",
            " 28  neighbourhood_cleansed                        11446 non-null  object \n",
            " 29  neighbourhood_group_cleansed                  0 non-null      float64\n",
            " 30  latitude                                      11446 non-null  float64\n",
            " 31  longitude                                     11446 non-null  float64\n",
            " 32  property_type                                 11446 non-null  object \n",
            " 33  room_type                                     11446 non-null  object \n",
            " 34  accommodates                                  11446 non-null  int64  \n",
            " 35  bathrooms                                     8043 non-null   float64\n",
            " 36  bathrooms_text                                11425 non-null  object \n",
            " 37  bedrooms                                      9104 non-null   float64\n",
            " 38  beds                                          11027 non-null  float64\n",
            " 39  amenities                                     11446 non-null  object \n",
            " 40  price                                         10604 non-null  object \n",
            " 41  minimum_nights                                11446 non-null  int64  \n",
            " 42  maximum_nights                                11446 non-null  int64  \n",
            " 43  minimum_minimum_nights                        11445 non-null  float64\n",
            " 44  maximum_minimum_nights                        11445 non-null  float64\n",
            " 45  minimum_maximum_nights                        11445 non-null  float64\n",
            " 46  maximum_maximum_nights                        11445 non-null  float64\n",
            " 47  minimum_nights_avg_ntm                        11445 non-null  float64\n",
            " 48  maximum_nights_avg_ntm                        11445 non-null  float64\n",
            " 49  calendar_updated                              0 non-null      float64\n",
            " 50  has_availability                              10922 non-null  object \n",
            " 51  availability_30                               11446 non-null  int64  \n",
            " 52  availability_60                               11446 non-null  int64  \n",
            " 53  availability_90                               11446 non-null  int64  \n",
            " 54  availability_365                              11446 non-null  int64  \n",
            " 55  calendar_last_scraped                         11446 non-null  object \n",
            " 56  number_of_reviews                             11446 non-null  int64  \n",
            " 57  number_of_reviews_ltm                         11446 non-null  int64  \n",
            " 58  number_of_reviews_l30d                        11446 non-null  int64  \n",
            " 59  first_review                                  9949 non-null   object \n",
            " 60  last_review                                   9949 non-null   object \n",
            " 61  review_scores_rating                          9951 non-null   float64\n",
            " 62  review_scores_accuracy                        9927 non-null   float64\n",
            " 63  review_scores_cleanliness                     9928 non-null   float64\n",
            " 64  review_scores_checkin                         9927 non-null   float64\n",
            " 65  review_scores_communication                   9928 non-null   float64\n",
            " 66  review_scores_location                        9927 non-null   float64\n",
            " 67  review_scores_value                           9926 non-null   float64\n",
            " 68  license                                       0 non-null      float64\n",
            " 69  instant_bookable                              11446 non-null  object \n",
            " 70  calculated_host_listings_count                11446 non-null  int64  \n",
            " 71  calculated_host_listings_count_entire_homes   11446 non-null  int64  \n",
            " 72  calculated_host_listings_count_private_rooms  11446 non-null  int64  \n",
            " 73  calculated_host_listings_count_shared_rooms   11446 non-null  int64  \n",
            " 74  reviews_per_month                             9949 non-null   float64\n",
            "dtypes: float64(22), int64(19), object(34)\n",
            "memory usage: 6.5+ MB\n"
          ]
        }
      ]
    },
    {
      "cell_type": "code",
      "source": [
        "# host_id별 숙소개수 집계\n",
        "host_counts = df[\"host_id\"].value_counts().reset_index()\n",
        "\n",
        "# 컬럼명 정리\n",
        "host_counts.columns = [\"host_id\", \"숙소개수\"]\n",
        "\n",
        "# 순위 붙이기\n",
        "host_counts[\"순위\"] = host_counts[\"숙소개수\"].rank(method=\"dense\", ascending=False).astype(int)\n",
        "\n",
        "# 순위순으로 정렬\n",
        "host_counts = host_counts.sort_values(by=\"순위\")\n",
        "\n",
        "print(host_counts.head(10))\n",
        "# 상위 10개만"
      ],
      "metadata": {
        "colab": {
          "base_uri": "https://localhost:8080/"
        },
        "id": "5s-0ZWidYcOw",
        "outputId": "94fbd5f0-216e-4e02-cd91-f871ccaefae4"
      },
      "execution_count": null,
      "outputs": [
        {
          "output_type": "stream",
          "name": "stdout",
          "text": [
            "      host_id  숙소개수  순위\n",
            "0      227945    98   1\n",
            "1     5463516    98   1\n",
            "2    52431987    96   2\n",
            "3    48640172    87   3\n",
            "4     2420885    84   4\n",
            "5     8087351    81   5\n",
            "6   199610462    79   6\n",
            "7        5282    77   7\n",
            "8   105741472    75   8\n",
            "10    3736234    72   9\n"
          ]
        }
      ]
    },
    {
      "cell_type": "code",
      "source": [
        "df1 = pd.read_csv('/content/top100_all_columns_comparison (1).csv')\n",
        "# 랭크 100위 (원태님이 전처리해주신 데이터)"
      ],
      "metadata": {
        "id": "aIDtLQ3JeX3m"
      },
      "execution_count": null,
      "outputs": []
    },
    {
      "cell_type": "code",
      "source": [
        "df1.info()"
      ],
      "metadata": {
        "colab": {
          "base_uri": "https://localhost:8080/"
        },
        "id": "Mh2u3EBIfmBv",
        "outputId": "78126402-51e6-4229-db3f-036855f8228d"
      },
      "execution_count": null,
      "outputs": [
        {
          "output_type": "stream",
          "name": "stdout",
          "text": [
            "<class 'pandas.core.frame.DataFrame'>\n",
            "RangeIndex: 100 entries, 0 to 99\n",
            "Data columns (total 78 columns):\n",
            " #   Column                                        Non-Null Count  Dtype  \n",
            "---  ------                                        --------------  -----  \n",
            " 0   rank                                          100 non-null    int64  \n",
            " 1   host_id                                       100 non-null    int64  \n",
            " 2   id                                            100 non-null    float64\n",
            " 3   listing_url                                   100 non-null    object \n",
            " 4   scrape_id                                     100 non-null    float64\n",
            " 5   last_scraped                                  100 non-null    object \n",
            " 6   source                                        100 non-null    object \n",
            " 7   name                                          100 non-null    object \n",
            " 8   description                                   98 non-null     object \n",
            " 9   neighborhood_overview                         80 non-null     object \n",
            " 10  picture_url                                   100 non-null    object \n",
            " 11  host_url                                      100 non-null    object \n",
            " 12  host_name                                     100 non-null    object \n",
            " 13  host_since                                    100 non-null    object \n",
            " 14  host_location                                 84 non-null     object \n",
            " 15  host_about                                    73 non-null     object \n",
            " 16  host_response_time                            95 non-null     object \n",
            " 17  host_response_rate                            95 non-null     object \n",
            " 18  host_acceptance_rate                          97 non-null     float64\n",
            " 19  host_is_superhost                             99 non-null     object \n",
            " 20  host_thumbnail_url                            100 non-null    object \n",
            " 21  host_picture_url                              100 non-null    object \n",
            " 22  host_neighbourhood                            99 non-null     object \n",
            " 23  host_listings_count                           100 non-null    float64\n",
            " 24  host_total_listings_count                     100 non-null    float64\n",
            " 25  host_verifications                            100 non-null    object \n",
            " 26  host_has_profile_pic                          100 non-null    object \n",
            " 27  host_identity_verified                        100 non-null    object \n",
            " 28  neighbourhood                                 80 non-null     object \n",
            " 29  neighbourhood_cleansed                        100 non-null    object \n",
            " 30  neighbourhood_group_cleansed                  0 non-null      float64\n",
            " 31  latitude                                      100 non-null    float64\n",
            " 32  longitude                                     100 non-null    float64\n",
            " 33  property_type                                 100 non-null    object \n",
            " 34  room_type                                     100 non-null    object \n",
            " 35  accommodates                                  100 non-null    float64\n",
            " 36  bathrooms                                     92 non-null     float64\n",
            " 37  bathrooms_text                                100 non-null    object \n",
            " 38  bedrooms                                      96 non-null     float64\n",
            " 39  beds                                          100 non-null    float64\n",
            " 40  amenities                                     100 non-null    object \n",
            " 41  price                                         99 non-null     float64\n",
            " 42  minimum_nights                                100 non-null    float64\n",
            " 43  maximum_nights                                100 non-null    float64\n",
            " 44  minimum_minimum_nights                        100 non-null    float64\n",
            " 45  maximum_minimum_nights                        100 non-null    float64\n",
            " 46  minimum_maximum_nights                        100 non-null    float64\n",
            " 47  maximum_maximum_nights                        100 non-null    float64\n",
            " 48  minimum_nights_avg_ntm                        100 non-null    float64\n",
            " 49  maximum_nights_avg_ntm                        100 non-null    float64\n",
            " 50  calendar_updated                              0 non-null      float64\n",
            " 51  has_availability                              99 non-null     object \n",
            " 52  availability_30                               100 non-null    float64\n",
            " 53  availability_60                               100 non-null    float64\n",
            " 54  availability_90                               100 non-null    float64\n",
            " 55  availability_365                              100 non-null    float64\n",
            " 56  calendar_last_scraped                         100 non-null    object \n",
            " 57  number_of_reviews                             100 non-null    int64  \n",
            " 58  number_of_reviews_ltm                         100 non-null    float64\n",
            " 59  number_of_reviews_l30d                        100 non-null    float64\n",
            " 60  first_review                                  100 non-null    object \n",
            " 61  last_review                                   100 non-null    object \n",
            " 62  review_scores_rating                          100 non-null    float64\n",
            " 63  review_scores_accuracy                        100 non-null    float64\n",
            " 64  review_scores_cleanliness                     100 non-null    float64\n",
            " 65  review_scores_checkin                         100 non-null    float64\n",
            " 66  review_scores_communication                   100 non-null    float64\n",
            " 67  review_scores_location                        100 non-null    float64\n",
            " 68  review_scores_value                           100 non-null    float64\n",
            " 69  license                                       0 non-null      float64\n",
            " 70  instant_bookable                              100 non-null    object \n",
            " 71  calculated_host_listings_count                100 non-null    float64\n",
            " 72  calculated_host_listings_count_entire_homes   100 non-null    float64\n",
            " 73  calculated_host_listings_count_private_rooms  100 non-null    float64\n",
            " 74  calculated_host_listings_count_shared_rooms   100 non-null    float64\n",
            " 75  reviews_per_month                             100 non-null    float64\n",
            " 76  host_is_superhost_num                         99 non-null     float64\n",
            " 77  count                                         100 non-null    int64  \n",
            "dtypes: float64(42), int64(4), object(32)\n",
            "memory usage: 61.1+ KB\n"
          ]
        }
      ]
    },
    {
      "cell_type": "code",
      "source": [
        "df['price']"
      ],
      "metadata": {
        "colab": {
          "base_uri": "https://localhost:8080/",
          "height": 458
        },
        "id": "73XJw8P8fsH9",
        "outputId": "2a416e17-f518-4ffe-cb35-8bc1831a7160"
      },
      "execution_count": null,
      "outputs": [
        {
          "output_type": "execute_result",
          "data": {
            "text/plain": [
              "0        $3,955.00\n",
              "1        $2,955.00\n",
              "2        $3,223.00\n",
              "3        $6,741.00\n",
              "4        $2,763.00\n",
              "           ...    \n",
              "11441      $523.00\n",
              "11442    $2,357.00\n",
              "11443    $1,120.00\n",
              "11444    $1,141.00\n",
              "11445    $1,518.00\n",
              "Name: price, Length: 11446, dtype: object"
            ],
            "text/html": [
              "<div>\n",
              "<style scoped>\n",
              "    .dataframe tbody tr th:only-of-type {\n",
              "        vertical-align: middle;\n",
              "    }\n",
              "\n",
              "    .dataframe tbody tr th {\n",
              "        vertical-align: top;\n",
              "    }\n",
              "\n",
              "    .dataframe thead th {\n",
              "        text-align: right;\n",
              "    }\n",
              "</style>\n",
              "<table border=\"1\" class=\"dataframe\">\n",
              "  <thead>\n",
              "    <tr style=\"text-align: right;\">\n",
              "      <th></th>\n",
              "      <th>price</th>\n",
              "    </tr>\n",
              "  </thead>\n",
              "  <tbody>\n",
              "    <tr>\n",
              "      <th>0</th>\n",
              "      <td>$3,955.00</td>\n",
              "    </tr>\n",
              "    <tr>\n",
              "      <th>1</th>\n",
              "      <td>$2,955.00</td>\n",
              "    </tr>\n",
              "    <tr>\n",
              "      <th>2</th>\n",
              "      <td>$3,223.00</td>\n",
              "    </tr>\n",
              "    <tr>\n",
              "      <th>3</th>\n",
              "      <td>$6,741.00</td>\n",
              "    </tr>\n",
              "    <tr>\n",
              "      <th>4</th>\n",
              "      <td>$2,763.00</td>\n",
              "    </tr>\n",
              "    <tr>\n",
              "      <th>...</th>\n",
              "      <td>...</td>\n",
              "    </tr>\n",
              "    <tr>\n",
              "      <th>11441</th>\n",
              "      <td>$523.00</td>\n",
              "    </tr>\n",
              "    <tr>\n",
              "      <th>11442</th>\n",
              "      <td>$2,357.00</td>\n",
              "    </tr>\n",
              "    <tr>\n",
              "      <th>11443</th>\n",
              "      <td>$1,120.00</td>\n",
              "    </tr>\n",
              "    <tr>\n",
              "      <th>11444</th>\n",
              "      <td>$1,141.00</td>\n",
              "    </tr>\n",
              "    <tr>\n",
              "      <th>11445</th>\n",
              "      <td>$1,518.00</td>\n",
              "    </tr>\n",
              "  </tbody>\n",
              "</table>\n",
              "<p>11446 rows × 1 columns</p>\n",
              "</div><br><label><b>dtype:</b> object</label>"
            ]
          },
          "metadata": {},
          "execution_count": 10
        }
      ]
    },
    {
      "cell_type": "code",
      "source": [
        "df['number_of_reviews']"
      ],
      "metadata": {
        "colab": {
          "base_uri": "https://localhost:8080/",
          "height": 458
        },
        "id": "JM9w62dQiPkt",
        "outputId": "29796c03-39d2-4d5d-f297-6782a8d3a7ba"
      },
      "execution_count": null,
      "outputs": [
        {
          "output_type": "execute_result",
          "data": {
            "text/plain": [
              "0         30\n",
              "1        117\n",
              "2        358\n",
              "3         16\n",
              "4        333\n",
              "        ... \n",
              "11441      0\n",
              "11442      0\n",
              "11443      0\n",
              "11444      0\n",
              "11445      0\n",
              "Name: number_of_reviews, Length: 11446, dtype: int64"
            ],
            "text/html": [
              "<div>\n",
              "<style scoped>\n",
              "    .dataframe tbody tr th:only-of-type {\n",
              "        vertical-align: middle;\n",
              "    }\n",
              "\n",
              "    .dataframe tbody tr th {\n",
              "        vertical-align: top;\n",
              "    }\n",
              "\n",
              "    .dataframe thead th {\n",
              "        text-align: right;\n",
              "    }\n",
              "</style>\n",
              "<table border=\"1\" class=\"dataframe\">\n",
              "  <thead>\n",
              "    <tr style=\"text-align: right;\">\n",
              "      <th></th>\n",
              "      <th>number_of_reviews</th>\n",
              "    </tr>\n",
              "  </thead>\n",
              "  <tbody>\n",
              "    <tr>\n",
              "      <th>0</th>\n",
              "      <td>30</td>\n",
              "    </tr>\n",
              "    <tr>\n",
              "      <th>1</th>\n",
              "      <td>117</td>\n",
              "    </tr>\n",
              "    <tr>\n",
              "      <th>2</th>\n",
              "      <td>358</td>\n",
              "    </tr>\n",
              "    <tr>\n",
              "      <th>3</th>\n",
              "      <td>16</td>\n",
              "    </tr>\n",
              "    <tr>\n",
              "      <th>4</th>\n",
              "      <td>333</td>\n",
              "    </tr>\n",
              "    <tr>\n",
              "      <th>...</th>\n",
              "      <td>...</td>\n",
              "    </tr>\n",
              "    <tr>\n",
              "      <th>11441</th>\n",
              "      <td>0</td>\n",
              "    </tr>\n",
              "    <tr>\n",
              "      <th>11442</th>\n",
              "      <td>0</td>\n",
              "    </tr>\n",
              "    <tr>\n",
              "      <th>11443</th>\n",
              "      <td>0</td>\n",
              "    </tr>\n",
              "    <tr>\n",
              "      <th>11444</th>\n",
              "      <td>0</td>\n",
              "    </tr>\n",
              "    <tr>\n",
              "      <th>11445</th>\n",
              "      <td>0</td>\n",
              "    </tr>\n",
              "  </tbody>\n",
              "</table>\n",
              "<p>11446 rows × 1 columns</p>\n",
              "</div><br><label><b>dtype:</b> int64</label>"
            ]
          },
          "metadata": {},
          "execution_count": 11
        }
      ]
    },
    {
      "cell_type": "code",
      "source": [
        "# 데이터시각화를 위한 폰트설정\n",
        "# 필요 라이브러리 불러오기\n",
        "import matplotlib.font_manager as fm\n",
        "import matplotlib.pyplot as plt\n",
        "\n",
        "# apt-get : 패키지 설치 명령어\n",
        "# -qq : 에러외의 메세지 숨기는 옵션키\n",
        "!apt-get -qq install fonts-nanum\n",
        "\n",
        "\n",
        "fe = fm.FontEntry(\n",
        "    fname=r'/usr/share/fonts/truetype/nanum/NanumGothic.tt f', # ttf 파일이 저장되어 있는 경로\n",
        "    name='NanumGothic')                           # 이 폰트의 원하는 이름 설정\n",
        "fm.fontManager.ttflist.insert(0, fe)              # Matplotlib에 폰트 추가\n",
        "plt.rcParams.update({'font.size': 10, 'font.family': 'NanumGothic'}) # 폰트 설정"
      ],
      "metadata": {
        "colab": {
          "base_uri": "https://localhost:8080/"
        },
        "id": "B6ybOiHgkSU9",
        "outputId": "a39a8815-e8da-44de-eaa3-72484e581edd"
      },
      "execution_count": null,
      "outputs": [
        {
          "output_type": "stream",
          "name": "stdout",
          "text": [
            "Selecting previously unselected package fonts-nanum.\n",
            "(Reading database ... 126435 files and directories currently installed.)\n",
            "Preparing to unpack .../fonts-nanum_20200506-1_all.deb ...\n",
            "Unpacking fonts-nanum (20200506-1) ...\n",
            "Setting up fonts-nanum (20200506-1) ...\n",
            "Processing triggers for fontconfig (2.13.1-4.2ubuntu5) ...\n"
          ]
        }
      ]
    },
    {
      "cell_type": "code",
      "source": [
        "import seaborn as sns\n",
        "import matplotlib.pyplot as plt\n",
        "\n",
        "df1['host_is_superhost_label'] = df1['host_is_superhost'].map({'t': 'Yes', 'f': 'No'})\n",
        "\n",
        "sns.scatterplot(\n",
        "    data=df1,\n",
        "    x=\"review_scores_rating\",\n",
        "    y=\"count\",\n",
        "    hue=\"host_is_superhost_label\",  # 이제 Yes/No\n",
        "    palette={\"Yes\": \"green\", \"No\": \"red\"}\n",
        ")\n",
        "plt.xlabel(\"평점\")\n",
        "plt.ylabel(\"숙소 개수\")\n",
        "plt.title(\"평점 vs 숙소 개수 (슈퍼호스트 여부)\")\n",
        "plt.show()"
      ],
      "metadata": {
        "colab": {
          "base_uri": "https://localhost:8080/",
          "height": 470
        },
        "id": "5X_wSkhjijp8",
        "outputId": "98821ed9-916a-4adc-c14d-3ba9d1f41011"
      },
      "execution_count": null,
      "outputs": [
        {
          "output_type": "display_data",
          "data": {
            "text/plain": [
              "<Figure size 640x480 with 1 Axes>"
            ],
            "image/png": "[encoded data removed]"
          },
          "metadata": {}
        }
      ]
    },
    {
      "cell_type": "code",
      "source": [],
      "metadata": {
        "id": "p_-016T7lf_2"
      },
      "execution_count": null,
      "outputs": []
    }
  ]
}
